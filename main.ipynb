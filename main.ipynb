{
 "cells": [
  {
   "cell_type": "markdown",
   "metadata": {},
   "source": [
    "**Imports**"
   ]
  },
  {
   "cell_type": "code",
   "execution_count": 145,
   "metadata": {},
   "outputs": [],
   "source": [
    " # PIL: Python image library\n",
    "from PIL import Image\n",
    "# numpy: standard python library for numbers/math functions \n",
    "import numpy as np\n",
    "# pandas: lets us use dataframes to work with data (excel spreadsheet as code object)\n",
    "import pandas as pd"
   ]
  },
  {
   "cell_type": "markdown",
   "metadata": {},
   "source": [
    "**Global Variables**"
   ]
  },
  {
   "cell_type": "code",
   "execution_count": 146,
   "metadata": {},
   "outputs": [],
   "source": [
    "# Set default values\n",
    "# Only need to change cur_sample to match the sample you're using\n",
    "cur_sample = \"lithothrix\"\n",
    "cur_actual_pix = 0\n",
    "cur_theshold = 0\n",
    "\n",
    "lithothrix_actual_pixels = 7524 #221644\n",
    "lithothrix_threshold = 58\n",
    "\n",
    "laurencia_csp_actual_pixels = 1169\n",
    "laurencia_csp_threshold = 0\n",
    "\n",
    "laurencia_cssa_actual_pixels = 2069\n",
    "laurencia_cssa_threshold = 12\n",
    "\n",
    "plocamium_threshold = 0"
   ]
  },
  {
   "cell_type": "markdown",
   "metadata": {},
   "source": [
    "**Function Definitions**"
   ]
  },
  {
   "cell_type": "code",
   "execution_count": 147,
   "metadata": {},
   "outputs": [],
   "source": [
    "# count_bw_pixels: Takes in a converted to black/white PIL image object and \n",
    "# either black or white. Counts and returns the number of pixels of \n",
    "# the given color in the image.\n",
    "def count_bw_pixels(img, color):\n",
    "    array_img = np.array(img)\n",
    "    count = 0\n",
    "    # Set which color to search for\n",
    "    check = True\n",
    "    if color == 'black':\n",
    "        check = False\n",
    "    # Loop through each row and its values in the array. If the value\n",
    "    # matches the color we want, increase count \n",
    "    for row in array_img:\n",
    "        for val in row:\n",
    "            if val == check:\n",
    "                count = count + 1\n",
    "    return count\n",
    "\n",
    "# Given measured and actual values, returns percent error\n",
    "def calc_perc_error(measured, actual):\n",
    "    return abs(round((measured - actual) / actual * 100, 3))"
   ]
  },
  {
   "cell_type": "markdown",
   "metadata": {},
   "source": [
    "**Main Code**"
   ]
  },
  {
   "cell_type": "markdown",
   "metadata": {},
   "source": [
    "**PRE-PROCESSING:** Load Image"
   ]
  },
  {
   "cell_type": "code",
   "execution_count": 153,
   "metadata": {},
   "outputs": [],
   "source": [
    "# Load Image as Object\n",
    "if cur_sample == \"lithothrix\":\n",
    "    # Lithothrix Example/Test\n",
    "    ex_img = Image.open('./black-white_photos/BW - Lithothrix.aspergillum_SC_P_SA_8Mar2024_3.jpg')\n",
    "    test_img = Image.open('./cropped_photos/Lithothrix.aspergillum_SC_P_SA_8Mar2024_3_cropped.jpg')\n",
    "    cur_threshold = lithothrix_threshold\n",
    "    cur_actual_pix = lithothrix_actual_pixels\n",
    "\n",
    "elif cur_sample == \"laurencia_csp\":\n",
    "    # Laurencia CSP Example/Test\n",
    "    ex_img = Image.open('./black-white_photos/BW - Laurencia.pacifica_CS_P_19Feb2024_1.jpg')\n",
    "    test_img = Image.open('./cropped_photos/Laurencia.pacifica_CS_P_19Feb2024_1_cropped.png')\n",
    "    cur_threshold = laurencia_csp_threshold\n",
    "    cur_actual_pix = laurencia_csp_actual_pixels\n",
    "\n",
    "elif cur_sample == \"laurencia_cssa\":\n",
    "    # Laurencia CSSA Example/Test\n",
    "    ex_img = Image.open('./black-white_photos/BW - Laurencia.pacifica_CS_SA_19Feb2024_1.jpg')\n",
    "    test_img = Image.open('./cropped_photos/Laurencia.pacifica_CS_SA_19Feb2024_1_cropped.png')\n",
    "    cur_threshold = laurencia_cssa_threshold\n",
    "    cur_actual_pix = laurencia_cssa_actual_pixels\n",
    "    \n",
    "elif cur_sample == \"plocamium\":\n",
    "    # Plocamium Test\n",
    "    test_img = Image.open('./cropped_photos/Plocamium.pacificum_LC_P_SA_26Jan2024_2_cropped.JPG')\n",
    "    cur_threshold = plocamium_threshold"
   ]
  },
  {
   "cell_type": "markdown",
   "metadata": {},
   "source": [
    "**TRAINING:** Calculate Number of Target Pixels in Example Image"
   ]
  },
  {
   "cell_type": "code",
   "execution_count": 154,
   "metadata": {},
   "outputs": [
    {
     "name": "stdout",
     "output_type": "stream",
     "text": [
      "Target Pixels in Example lithothrix Image: 7524\n"
     ]
    }
   ],
   "source": [
    "try:\n",
    "    pix_ex = count_bw_pixels(ex_img, 'white')\n",
    "    print(\"Target Pixels in Example %s Image: %s\" % (cur_sample, pix_ex))\n",
    "except:\n",
    "    print(\"No example image given for %s\" % cur_sample)"
   ]
  },
  {
   "cell_type": "markdown",
   "metadata": {},
   "source": [
    "**TRAINING:** Determining Best Threshold Value"
   ]
  },
  {
   "cell_type": "code",
   "execution_count": 156,
   "metadata": {},
   "outputs": [],
   "source": [
    "# Create list of available thresholds 0-255\n",
    "thresholds = list(range(0, 256))\n",
    "performance_dict = {'Threshold': thresholds, 'Pixels': [], 'Percent_Error': []}\n",
    "\n",
    "# Convert to black/white using threshold\n",
    "for ind, cur_thresh in enumerate(thresholds):\n",
    "    bw_img = test_img.convert('L').point(lambda x: 255 if x < cur_thresh else 0, mode='1')\n",
    "    pix = count_bw_pixels(bw_img, 'white')\n",
    "    performance_dict['Pixels'].append(pix)\n",
    "    performance_dict['Percent_Error'].append(calc_perc_error(pix, cur_actual_pix))\n",
    "\n",
    "    # If we have twice as many chosen pixels as we should have, stop the loop since it's\n",
    "    # far outside the appropriate range\n",
    "    if performance_dict['Percent_Error'][ind] > 100:\n",
    "        break\n",
    "\n",
    "# Since we'll most likely stop populating performance_dict before using\n",
    "# all 256 thresholds, remove the extra values from the thresholds in performance_dict\n",
    "vals = len(performance_dict['Percent_Error'])\n",
    "del performance_dict['Threshold'][vals:]\n",
    "# Convert to Dataframe\n",
    "performance_df = pd.DataFrame.from_dict(performance_dict)"
   ]
  },
  {
   "cell_type": "code",
   "execution_count": 157,
   "metadata": {},
   "outputs": [
    {
     "name": "stdout",
     "output_type": "stream",
     "text": [
      "    Threshold  Pixels  Percent_Error\n",
      "56         56  219520          0.958\n",
      "57         57  220460          0.534\n",
      "58         58  221354          0.131\n",
      "59         59  222309          0.300\n",
      "60         60  223240          0.720\n"
     ]
    }
   ],
   "source": [
    "# Get the index of the smallest percent error\n",
    "best_val_idx = performance_df['Percent_Error'].idxmin()\n",
    "# Show the dataframe around our best value\n",
    "print(performance_df.iloc[best_val_idx-2:best_val_idx+3])\n",
    "# print(performance_dict)"
   ]
  },
  {
   "cell_type": "markdown",
   "metadata": {},
   "source": [
    "**Evaluation:** View Black/White Filtered Image"
   ]
  },
  {
   "cell_type": "code",
   "execution_count": null,
   "metadata": {},
   "outputs": [
    {
     "data": {
      "image/jpeg": "[encoded data removed]",
      "image/png": "[encoded data removed]",
      "text/plain": [
       "<PIL.Image.Image image mode=1 size=710x365>"
      ]
     },
     "metadata": {},
     "output_type": "display_data"
    }
   ],
   "source": [
    "bw_img = test_img.convert('L').point(lambda x: 255 if x < cur_threshold else 0, mode='1')\n",
    "display(bw_img)"
   ]
  }
 ],
 "metadata": {
  "kernelspec": {
   "display_name": ".venv",
   "language": "python",
   "name": "python3"
  },
  "language_info": {
   "codemirror_mode": {
    "name": "ipython",
    "version": 3
   },
   "file_extension": ".py",
   "mimetype": "text/x-python",
   "name": "python",
   "nbconvert_exporter": "python",
   "pygments_lexer": "ipython3",
   "version": "3.11.4"
  }
 },
 "nbformat": 4,
 "nbformat_minor": 2
}
